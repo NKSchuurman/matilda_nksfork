{
  "cells": [
    {
      "cell_type": "raw",
      "metadata": {},
      "source": [
        "---\n",
        "title: \"matilda\"\n",
        "toc: false\n",
        "---"
      ],
      "id": "c06a84ef"
    },
    {
      "cell_type": "markdown",
      "metadata": {},
      "source": [
        "## Measurement and Theory for Intensive Longitudinal Data\n",
        "\n",
        "::: callout-caution\n",
        "## This website serves as an example and any content may be subject to change.\n",
        ":::\n",
        "\n",
        "MATILDA is a guide that helps you align your research questions and intensive longitudinal measurements.\n",
        "\n",
        "## Why\n",
        "- How you set up your measurement design has implications for your substantive theory\n",
        "- Substantive theory has implications how you should design\n",
        "- Something about how we connect these two\n",
        "- If the two are aligned well\n",
        "- You need to align both well in order to answer your research questions.\n",
        "\n",
        "## How\n",
        "- MATILDA helps you do this by making these connections explicit: We explain...\n",
        "- General setup of website\n",
        "- Expert curated content\n",
        "- Content on this website curated by...\n",
        "- Meet our experts button (maybe next to where do I start button)\n",
        "\n",
        "- Citation and peer review system\n",
        "\n",
        "- Don't know how to start? Go to quiz\n",
        "- Or three buttons: Read more about how MATILDA works\n",
        "\n",
        "\n",
        "\n",
        "\n",
        "\n",
        "\n",
        "\n",
        "\n",
        "```{ojs}\n",
        "viewof radio = Inputs.radio([\"Yes\", \"No\"], {label: \"Question 1\"})\n",
        "```\n",
        "\n",
        "```{ojs}\n",
        "test = {\n",
        "  let adv;\n",
        "  if (radio == \"Yes\") adv = new window.URL(\"www.google.com\");\n",
        "  if (radio == \"No\") adv = \"b\";\n",
        "  return adv;\n",
        "}\n",
        "```\n",
        "\n",
        "```{md}\n",
        "test\n",
        "```"
      ],
      "id": "ee68b613"
    }
  ],
  "metadata": {
    "kernelspec": {
      "display_name": "Python 3",
      "language": "python",
      "name": "python3"
    }
  },
  "nbformat": 4,
  "nbformat_minor": 5
}